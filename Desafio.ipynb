{
  "nbformat": 4,
  "nbformat_minor": 0,
  "metadata": {
    "colab": {
      "name": "Desafio.ipynb",
      "provenance": [],
      "collapsed_sections": [],
      "include_colab_link": true
    },
    "kernelspec": {
      "name": "python3",
      "display_name": "Python 3"
    },
    "language_info": {
      "name": "python"
    }
  },
  "cells": [
    {
      "cell_type": "markdown",
      "metadata": {
        "id": "view-in-github",
        "colab_type": "text"
      },
      "source": [
        "<a href=\"https://colab.research.google.com/github/jucgs29/desafioLigaIA/blob/main/Desafio.ipynb\" target=\"_parent\"><img src=\"https://colab.research.google.com/assets/colab-badge.svg\" alt=\"Open In Colab\"/></a>"
      ]
    },
    {
      "cell_type": "markdown",
      "source": [
        "**Imports**"
      ],
      "metadata": {
        "id": "0tKr3f_x0uCQ"
      }
    },
    {
      "cell_type": "code",
      "execution_count": null,
      "metadata": {
        "id": "X45jkU24xVf6"
      },
      "outputs": [],
      "source": [
        "import matplotlib.pyplot as plt\n",
        "import pandas as pd\n",
        "import numpy as np\n",
        "from sklearn.tree import DecisionTreeClassifier\n",
        "from sklearn.model_selection import train_test_split\n",
        "from sklearn.metrics import accuracy_score"
      ]
    },
    {
      "cell_type": "markdown",
      "source": [
        "READING DATAFRAME"
      ],
      "metadata": {
        "id": "t2JfUxJN02pQ"
      }
    },
    {
      "cell_type": "code",
      "source": [
        "url = \"https://gist.githubusercontent.com/guilhermesilveira/1b7d5475863c15f484ac495bd70975cf/raw/16aff7a0aee67e7c100a2a48b676a2d2d142f646/projects.csv\"\n",
        "colunas = ['unfinished', 'expected_hours', 'price']\n",
        "\n",
        "df = pd.read_csv(url, names=colunas, skiprows=1, delimiter=',')"
      ],
      "metadata": {
        "id": "aEx0vw7N02Qr"
      },
      "execution_count": null,
      "outputs": []
    },
    {
      "cell_type": "markdown",
      "source": [
        "Input and Output set"
      ],
      "metadata": {
        "id": "1fS1NfxuMaM5"
      }
    },
    {
      "cell_type": "code",
      "source": [
        "array = df.values\n",
        "X = array[:, 1:3] #input - expected_hours, price\n",
        "Y = array[:, 0] #output - unfinished"
      ],
      "metadata": {
        "id": "CPOBBBf5KrIR"
      },
      "execution_count": null,
      "outputs": []
    },
    {
      "cell_type": "markdown",
      "source": [
        "Training and testing"
      ],
      "metadata": {
        "id": "EeB8VGxrQx5g"
      }
    },
    {
      "cell_type": "code",
      "source": [
        "test_size = 0.20\n",
        "seed = 3\n",
        "X_train, X_test, Y_train, Y_test = train_test_split(X, Y, test_size=test_size, random_state = seed)\n",
        "\n",
        "model = DecisionTreeClassifier()\n",
        "model.fit(X_train, Y_train)\n",
        "predictions = model.predict(X_test)\n",
        "\n",
        "# score = accuracy_score(Y_test, predictions)\n",
        "# print(\"Accuracy score:\", score)\n",
        "\n",
        "hours = input(\"Digite as horas necessárias para concluir o trabalho: \")\n",
        "price = input(\"Digite quanto será cobrado: \")\n",
        "\n",
        "predictions = model.predict([[hours,price]]) #isso aqui n era pra ser aprovado, mas tá sendo\n",
        "\n",
        "if (predictions==0):\n",
        "    print('Trabalho aceito e concluido')\n",
        "else:\n",
        "    print('Trabalho não concluido')"
      ],
      "metadata": {
        "colab": {
          "base_uri": "https://localhost:8080/"
        },
        "id": "5khLLDI0QmFl",
        "outputId": "49ae2355-b6fb-4535-de31-1c89ce6244e9"
      },
      "execution_count": null,
      "outputs": [
        {
          "output_type": "stream",
          "name": "stdout",
          "text": [
            "Digite as horas necessárias para concluir o trabalho: 100\n",
            "Digite quanto será cobrado: 9000\n",
            "Trabalho aceito e concluido\n"
          ]
        }
      ]
    },
    {
      "cell_type": "markdown",
      "source": [
        "Graph for finished jobs"
      ],
      "metadata": {
        "id": "xvU56WdbsA0B"
      }
    },
    {
      "cell_type": "code",
      "source": [
        "finished = df.loc[df['unfinished']==0]\n",
        "\n",
        "hours = finished['expected_hours']\n",
        "price = finished['price']\n",
        "\n",
        "plt.scatter(hours, price)\n",
        "plt.show()"
      ],
      "metadata": {
        "colab": {
          "base_uri": "https://localhost:8080/",
          "height": 265
        },
        "id": "EN5-_Z-wqkwX",
        "outputId": "f23634f3-9ae3-4230-e85e-86754963641c"
      },
      "execution_count": null,
      "outputs": [
        {
          "output_type": "display_data",
          "data": {
            "text/plain": [
              "<Figure size 432x288 with 1 Axes>"
            ],
            "image/png": "[encoded data removed]"
          },
          "metadata": {
            "needs_background": "light"
          }
        }
      ]
    },
    {
      "cell_type": "markdown",
      "source": [
        "Graph for unfinished jobs"
      ],
      "metadata": {
        "id": "k6kvAJqKsO_I"
      }
    },
    {
      "cell_type": "code",
      "source": [
        "unfinished = df.loc[df['unfinished']==1]\n",
        "\n",
        "hours = unfinished['expected_hours']\n",
        "price = unfinished['price']\n",
        "\n",
        "plt.scatter(hours, price)\n",
        "plt.show()"
      ],
      "metadata": {
        "colab": {
          "base_uri": "https://localhost:8080/",
          "height": 265
        },
        "id": "8hnW3D0TsFBY",
        "outputId": "71fa0645-b8c6-414f-c302-b189a08bacd9"
      },
      "execution_count": null,
      "outputs": [
        {
          "output_type": "display_data",
          "data": {
            "text/plain": [
              "<Figure size 432x288 with 1 Axes>"
            ],
            "image/png": "[encoded data removed]"
          },
          "metadata": {
            "needs_background": "light"
          }
        }
      ]
    }
  ]
}